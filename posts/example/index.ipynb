{
 "cells": [
  {
   "cell_type": "raw",
   "id": "67b3f51b",
   "metadata": {
    "vscode": {
     "languageId": "raw"
    }
   },
   "source": [
    "---\n",
    "title: New Post\n",
    "date: 2023-07-12\n",
    "description: A nice new post\n",
    "categories: [nonsense, code]\n",
    "---"
   ]
  },
  {
   "cell_type": "code",
   "execution_count": 2,
   "id": "81b6de60",
   "metadata": {},
   "outputs": [],
   "source": [
    "some_code = 'string'"
   ]
  },
  {
   "cell_type": "markdown",
   "id": "8d341fd2",
   "metadata": {},
   "source": [
    "some text\""
   ]
  },
  {
   "cell_type": "code",
   "execution_count": null,
   "id": "725d072d",
   "metadata": {},
   "outputs": [],
   "source": []
  }
 ],
 "metadata": {
  "kernelspec": {
   "display_name": "Python 3 (ipykernel)",
   "language": "python",
   "name": "python3"
  },
  "language_info": {
   "codemirror_mode": {
    "name": "ipython",
    "version": 3
   },
   "file_extension": ".py",
   "mimetype": "text/x-python",
   "name": "python",
   "nbconvert_exporter": "python",
   "pygments_lexer": "ipython3",
   "version": "3.10.9"
  }
 },
 "nbformat": 4,
 "nbformat_minor": 5
}
